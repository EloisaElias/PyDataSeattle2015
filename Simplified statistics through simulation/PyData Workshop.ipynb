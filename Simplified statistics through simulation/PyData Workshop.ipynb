{
 "cells": [
  {
   "cell_type": "code",
   "execution_count": 2,
   "metadata": {
    "collapsed": false
   },
   "outputs": [
    {
     "name": "stdout",
     "output_type": "stream",
     "text": [
      "Populating the interactive namespace from numpy and matplotlib\n"
     ]
    },
    {
     "name": "stderr",
     "output_type": "stream",
     "text": [
      "WARNING: pylab import has clobbered these variables: ['random']\n",
      "`%matplotlib` prevents importing * from pylab and numpy\n"
     ]
    }
   ],
   "source": [
    "%pylab inline\n",
    "import numpy as np\n",
    "import random\n",
    "import scipy\n",
    "from statsmodels.stats import weightstats"
   ]
  },
  {
   "cell_type": "markdown",
   "metadata": {},
   "source": [
    "# Statistics made simple through simulation\n",
    "\n",
    "## The 5 Step Modeling Approach\n",
    "\n",
    "1. Ask the question\n",
    "2. Select the modeling approach\n",
    "3. Formulate the model\n",
    "4. Solve the model\n",
    "5. Answer the question\n",
    "\n",
    "\n",
    "## Monte Carlo Simulation\n",
    "\n",
    "Pros\n",
    "* General method that can give approximate solutions to any probability modeling problem. (Mathematical Modeling, Meerschaert)\n",
    "* Intuitive models that are fairly straight-forward to grasp without much mathematical formalism.\n",
    "\n",
    "Cons\n",
    "* Solves via brute force and that can get very time intensive.\n",
    "* The simulation itself introduces extra variation into your solution\n",
    "\n",
    "To the last point while this is true, Meerschaert says:\n",
    "\n",
    "\"As a practical matter, there are many sources of error and variation in a modeling problem, and the additional variation produced by Monte Carlo simulation is not typically the most serious of these.\"\n",
    "\n",
    "He goes on to say that sensitivity analysis is your friend.\n",
    "\n",
    "We'll be using this term to be synonomous with Analytical Simulation. The core difference is a pure Monte Carlo simulation works in simplest terms with no higher level mathematical concepts. An analytical simulation may use probability distributions or other mathematical tooling as a shortcut.\n",
    "\n",
    "## Enough theory\n",
    "\n",
    "Easiest to explain with a simple example. Suppose you're in a room facing a large wall and large open window with a bowl full of marbles on a table behind you. \n",
    "\n",
    "How might you answer the question: \"What percentage of that wall is the window taking up?\"\n",
    "\n",
    "Process\n",
    "1. Count how many marbles are in the bowl.\n",
    "2. Close your eyes and throw marbles at the wall in a purely random way.\n",
    "3. Find the percentage of marbles that went through the window.\n",
    "\n",
    "The answer you get from step 3 will approximate how much of the wall the window takes up.\n",
    "\n",
    "Let's simulate this and see how it works."
   ]
  },
  {
   "cell_type": "code",
   "execution_count": 7,
   "metadata": {
    "collapsed": true
   },
   "outputs": [],
   "source": [
    "wall_width = 20\n",
    "wall_height = 10\n",
    "\n",
    "window_lower_left = (5, 2.5)\n",
    "window_upper_right = (15, 7.5)\n",
    "\n",
    "number_of_marbles = 1000\n",
    "\n",
    "sample_widths = np.random.random(number_of_marbles) * wall_width\n",
    "sample_heights = np.random.random(number_of_marbles) * wall_height\n",
    "\n",
    "random_marbles_thrown = zip(sample_widths, sample_heights)"
   ]
  },
  {
   "cell_type": "code",
   "execution_count": 9,
   "metadata": {
    "collapsed": false
   },
   "outputs": [
    {
     "data": {
      "text/plain": [
       "<matplotlib.collections.PathCollection at 0x1827dba8>"
      ]
     },
     "execution_count": 9,
     "metadata": {},
     "output_type": "execute_result"
    },
    {
     "data": {
      "image/png": "[encoded data removed]",
      "text/plain": [
       "<matplotlib.figure.Figure at 0x17ec7400>"
      ]
     },
     "metadata": {},
     "output_type": "display_data"
    }
   ],
   "source": [
    "marbles_that_hit_the_wall = filter(lambda x: (x[0] < window_lower_left[0] or x[0] > window_upper_right[0]) or\n",
    "                                            (x[1] < window_lower_left[1] or x[1] > window_upper_right[1]), \n",
    "                                  random_marbles_thrown)\n",
    "\n",
    "plt.scatter(x=map(lambda x: x[0], marbles_that_hit_the_wall), y=map(lambda x: x[1], marbles_that_hit_the_wall))"
   ]
  },
  {
   "cell_type": "markdown",
   "metadata": {},
   "source": [
    "We pick an X and a Y to form a coordinate that we throw a marble at. We throw all of our marbles this way. Then we gather all of the marbles that hit the wall and didn't go through the window."
   ]
  },
  {
   "cell_type": "markdown",
   "metadata": {},
   "source": [
    "Next we find the percentage of marbles that went through the window to find what percentage of the wall the window takes up."
   ]
  },
  {
   "cell_type": "code",
   "execution_count": 10,
   "metadata": {
    "collapsed": false
   },
   "outputs": [
    {
     "data": {
      "text/plain": [
       "0.739"
      ]
     },
     "execution_count": 10,
     "metadata": {},
     "output_type": "execute_result"
    }
   ],
   "source": [
    "len(marbles_that_hit_the_wall) / (1.0*number_of_marbles)"
   ]
  },
  {
   "cell_type": "code",
   "execution_count": 11,
   "metadata": {
    "collapsed": false,
    "scrolled": true
   },
   "outputs": [
    {
     "data": {
      "text/plain": [
       "0.261"
      ]
     },
     "execution_count": 11,
     "metadata": {},
     "output_type": "execute_result"
    }
   ],
   "source": [
    "1 - len(marbles_that_hit_the_wall) / (1.0*number_of_marbles)"
   ]
  },
  {
   "cell_type": "markdown",
   "metadata": {},
   "source": [
    "## FACT CHECK"
   ]
  },
  {
   "cell_type": "markdown",
   "metadata": {},
   "source": [
    "It's pretty straight forward to do this manually with math."
   ]
  },
  {
   "cell_type": "code",
   "execution_count": 12,
   "metadata": {
    "collapsed": false
   },
   "outputs": [
    {
     "data": {
      "text/plain": [
       "0.25"
      ]
     },
     "execution_count": 12,
     "metadata": {},
     "output_type": "execute_result"
    }
   ],
   "source": [
    "(10 * 5) / (1.0 * wall_height * wall_width)"
   ]
  },
  {
   "cell_type": "markdown",
   "metadata": {},
   "source": [
    "## Simulating integration of an arbitrary function\n",
    "\n",
    "The same technique works when trying to evaluate a definite integral. Let's use a normal curve and find out how much area of the curve is between -1 and 1. Or in other words, within one standard deviation. Given what we've learned in stats 101 we would expect the answer to be ~0.682."
   ]
  },
  {
   "cell_type": "code",
   "execution_count": 75,
   "metadata": {
    "collapsed": true
   },
   "outputs": [],
   "source": [
    "def normal(x):\n",
    "    standard_deviation = 1.0\n",
    "    mean = 0.0\n",
    "    return np.exp(-((x-mean)**2)/(2.0 * standard_deviation)) / np.sqrt(2*np.pi)"
   ]
  },
  {
   "cell_type": "code",
   "execution_count": 86,
   "metadata": {
    "collapsed": false
   },
   "outputs": [
    {
     "name": "stdout",
     "output_type": "stream",
     "text": [
      "0.680116799628\n"
     ]
    }
   ],
   "source": [
    "max_value = normal(0)\n",
    "x_values = np.random.random(5000) * 2.0 - 1 # Generate x values between -1 and 1.\n",
    "y_values = np.random.random(5000) * max_value\n",
    "\n",
    "points = zip(x_values, y_values)\n",
    "points_under_curve = filter(lambda x: x[1] <= normal(x[0]) , \n",
    "                                  points)\n",
    "\n",
    "print(2.0 * max_value * len(points_under_curve) / (1.0 * len(points)))"
   ]
  },
  {
   "cell_type": "markdown",
   "metadata": {},
   "source": [
    "+/- a standard deviation is ~68.2% of the area by the way. Our approximation comes very close."
   ]
  },
  {
   "cell_type": "markdown",
   "metadata": {},
   "source": [
    "And hey let's graph this for good measure. This is the region that is under the curve of our function."
   ]
  },
  {
   "cell_type": "code",
   "execution_count": 89,
   "metadata": {
    "collapsed": false,
    "scrolled": true
   },
   "outputs": [
    {
     "data": {
      "text/plain": [
       "<matplotlib.collections.PathCollection at 0x116525ed0>"
      ]
     },
     "execution_count": 89,
     "metadata": {},
     "output_type": "execute_result"
    },
    {
     "data": {
      "image/png": "[encoded data removed]",
      "text/plain": [
       "<matplotlib.figure.Figure at 0x1161a0710>"
      ]
     },
     "metadata": {},
     "output_type": "display_data"
    }
   ],
   "source": [
    "plt.scatter(x=map(lambda x: x[0], points_under_curve), y=map(lambda y: y[1], points_under_curve), s=0.2)"
   ]
  },
  {
   "cell_type": "markdown",
   "metadata": {},
   "source": [
    "The basic idea is to form a rectangular window around the function you want to integrate, randomly place points in the window, then see what percent are below your curve. After this, you can multiply the known area of the rectangle with the percentage of the points that were under your curve to get your answer."
   ]
  },
  {
   "cell_type": "markdown",
   "metadata": {},
   "source": [
    "## Key Moral: Simulation empowers us to explore statistics and probability instead of consulting an oracle."
   ]
  },
  {
   "cell_type": "markdown",
   "metadata": {},
   "source": [
    "## Statistical tests that make no (read: fewer) assumptions"
   ]
  },
  {
   "cell_type": "markdown",
   "metadata": {},
   "source": [
    "Let's say we have two samples of data and we want to know how likely it is that the mean of the population of sample A is greater than the mean of the population of sample B. Let's not T-test. Let's choose an even more flexible test- bootstrapping."
   ]
  },
  {
   "cell_type": "code",
   "execution_count": 123,
   "metadata": {
    "collapsed": false
   },
   "outputs": [
    {
     "data": {
      "text/plain": [
       "''"
      ]
     },
     "execution_count": 123,
     "metadata": {},
     "output_type": "execute_result"
    },
    {
     "data": {
      "image/png": "[encoded data removed]",
      "text/plain": [
       "<matplotlib.figure.Figure at 0x116536250>"
      ]
     },
     "metadata": {},
     "output_type": "display_data"
    }
   ],
   "source": [
    "sample_a = np.random.gamma(3.5, 5, 40)\n",
    "sample_b = np.random.gamma(4.5, 5, 20)\n",
    "\n",
    "sample_a_samples = [np.random.choice(sample_a, 40).mean() for i in range(10000)]\n",
    "sample_b_samples = [np.random.choice(sample_b, 20).mean() for i in range(10000)]\n",
    "\n",
    "plt.hist(sample_a_samples, bins=50, alpha=.8)\n",
    "plt.hist(sample_b_samples, bins=50, alpha=.8)\n",
    "''"
   ]
  },
  {
   "cell_type": "markdown",
   "metadata": {},
   "source": [
    "Key take aways here: We've come up with a distribution of possible population means by resampling from observed data."
   ]
  },
  {
   "cell_type": "code",
   "execution_count": 124,
   "metadata": {
    "collapsed": false
   },
   "outputs": [
    {
     "data": {
      "text/plain": [
       "''"
      ]
     },
     "execution_count": 124,
     "metadata": {},
     "output_type": "execute_result"
    },
    {
     "data": {
      "image/png": "[encoded data removed]",
      "text/plain": [
       "<matplotlib.figure.Figure at 0x116548150>"
      ]
     },
     "metadata": {},
     "output_type": "display_data"
    }
   ],
   "source": [
    "random_pairings = zip(sample_a_samples, sample_b_samples)\n",
    "difference_of_pairings = map(lambda x: x[0] - x[1], random_pairings)\n",
    "\n",
    "plt.hist(difference_of_pairings, bins=20)\n",
    "''"
   ]
  },
  {
   "cell_type": "code",
   "execution_count": 114,
   "metadata": {
    "collapsed": false
   },
   "outputs": [
    {
     "name": "stdout",
     "output_type": "stream",
     "text": [
      "95% Credible region: -13.1169462263 to -3.10525291921\n"
     ]
    }
   ],
   "source": [
    "difference_of_pairings = sorted(difference_of_pairings)\n",
    "print('95% Credible region: {0} to {1}'.format(difference_of_pairings[25], difference_of_pairings[-25]))"
   ]
  },
  {
   "cell_type": "markdown",
   "metadata": {},
   "source": [
    "There is 95% probability that the true value lies in the above range. So there is evidence that the population of sample_a has an average that is lower."
   ]
  },
  {
   "cell_type": "markdown",
   "metadata": {},
   "source": [
    "## Parametric Tests\n",
    "\n",
    "Now let's say we want to determine if a coin is fair. We can solve this using bootstrapping or by using a parametric distribution. First we'll start with the bootstrapping approach."
   ]
  },
  {
   "cell_type": "code",
   "execution_count": 132,
   "metadata": {
    "collapsed": false
   },
   "outputs": [
    {
     "data": {
      "text/plain": [
       "''"
      ]
     },
     "execution_count": 132,
     "metadata": {},
     "output_type": "execute_result"
    },
    {
     "data": {
      "image/png": "[encoded data removed]",
      "text/plain": [
       "<matplotlib.figure.Figure at 0x11655e2d0>"
      ]
     },
     "metadata": {},
     "output_type": "display_data"
    }
   ],
   "source": [
    "sample_coin_flips = [0,0,0,0,1,1,0,0,0,0]\n",
    "sample_coin_flip_averages = [np.random.choice(sample_coin_flips, len(sample_coin_flips)).mean() for i in range(10000)]\n",
    "plt.hist(sample_coin_flip_averages, bins=6)\n",
    "''"
   ]
  },
  {
   "cell_type": "code",
   "execution_count": 140,
   "metadata": {
    "collapsed": false
   },
   "outputs": [
    {
     "data": {
      "text/plain": [
       "''"
      ]
     },
     "execution_count": 140,
     "metadata": {},
     "output_type": "execute_result"
    },
    {
     "data": {
      "image/png": "[encoded data removed]",
      "text/plain": [
       "<matplotlib.figure.Figure at 0x1168c2290>"
      ]
     },
     "metadata": {},
     "output_type": "display_data"
    }
   ],
   "source": [
    "possibilities = [np.random.beta(sum(sample_coin_flips), 10-sum(sample_coin_flips)) for i in range(15000)]\n",
    "plt.hist(possibilities, bins=100)\n",
    "''"
   ]
  },
  {
   "cell_type": "code",
   "execution_count": 156,
   "metadata": {
    "collapsed": false
   },
   "outputs": [
    {
     "data": {
      "text/plain": [
       "''"
      ]
     },
     "execution_count": 156,
     "metadata": {},
     "output_type": "execute_result"
    },
    {
     "data": {
      "image/png": "[encoded data removed]",
      "text/plain": [
       "<matplotlib.figure.Figure at 0x117c3ff50>"
      ]
     },
     "metadata": {},
     "output_type": "display_data"
    }
   ],
   "source": [
    "coin_flip_values = [0,1]\n",
    "sample_coin_flips = [8,2]\n",
    "sample_coin_flip_averages = [(np.random.dirichlet(sample_coin_flips) * coin_flip_values).sum() for i in range(15000)]\n",
    "plt.hist(sample_coin_flip_averages, bins=100)\n",
    "''"
   ]
  },
  {
   "cell_type": "code",
   "execution_count": 152,
   "metadata": {
    "collapsed": false
   },
   "outputs": [
    {
     "data": {
      "text/plain": [
       "0.0312727360328348"
      ]
     },
     "execution_count": 152,
     "metadata": {},
     "output_type": "execute_result"
    }
   ],
   "source": [
    "(np.random.dirichlet(sample_coin_flips) * coin_flip_values).sum()"
   ]
  },
  {
   "cell_type": "markdown",
   "metadata": {},
   "source": [
    "## Split Test Conversion\n",
    "\n",
    "What can we say about the below split test? Also a great opportunity to explore the affects of sample size on test results."
   ]
  },
  {
   "cell_type": "code",
   "execution_count": 171,
   "metadata": {
    "collapsed": false
   },
   "outputs": [
    {
     "data": {
      "text/plain": [
       "''"
      ]
     },
     "execution_count": 171,
     "metadata": {},
     "output_type": "execute_result"
    },
    {
     "data": {
      "image/png": "[encoded data removed]",
      "text/plain": [
       "<matplotlib.figure.Figure at 0x117ee7350>"
      ]
     },
     "metadata": {},
     "output_type": "display_data"
    }
   ],
   "source": [
    "variant_a_orders = 23\n",
    "variant_a_visits = 144\n",
    "\n",
    "variant_b_orders = 21\n",
    "variant_b_visits = 115\n",
    "\n",
    "variant_a_samples = [np.random.beta(variant_a_orders, variant_a_visits) for i in range(10000)]\n",
    "variant_b_samples = [np.random.beta(variant_b_orders, variant_b_visits) for i in range(10000)]\n",
    "\n",
    "plt.hist(variant_a_samples, bins=100, alpha=.8)\n",
    "plt.hist(variant_b_samples, bins=100, alpha=.8)\n",
    "''"
   ]
  },
  {
   "cell_type": "code",
   "execution_count": 172,
   "metadata": {
    "collapsed": false
   },
   "outputs": [
    {
     "name": "stdout",
     "output_type": "stream",
     "text": [
      "95% chance the true change is between -0.135451127774% points and 0.0934575475419% points.\n"
     ]
    },
    {
     "data": {
      "image/png": "[encoded data removed]",
      "text/plain": [
       "<matplotlib.figure.Figure at 0x117b836d0>"
      ]
     },
     "metadata": {},
     "output_type": "display_data"
    }
   ],
   "source": [
    "variant_a_improvement = sorted(map(lambda x: x[0] - x[1], zip(variant_a_samples, variant_b_samples)))\n",
    "\n",
    "plt.hist(variant_a_improvement, bins = 100)\n",
    "print('95% chance the true change is between {0}% points and {1}% points.'.format(variant_a_improvement[25], variant_a_improvement[-25]))"
   ]
  },
  {
   "cell_type": "markdown",
   "metadata": {},
   "source": [
    "## Exploring unintuitive probability puzzles\n",
    "\n",
    "Monty Hall is a classic example. You're probably familiar but I'll repeat. \n",
    "\n",
    "Scenario:\n",
    "\n",
    "You're asked to choose one of three doors in order to win a car that's behind one of them. After you pick a door, the game show host opens one door that is not a winner (it has a goat behind it) and then asks if you want to switch your door and stick with the one you chose.\n",
    "\n",
    "What's the optimal strategy to win the car? Stick or switch? Spoiler Alert! You want to switch. Does that seem crazy?\n",
    "\n",
    "Let's simulate both strategies and see which is better."
   ]
  },
  {
   "cell_type": "code",
   "execution_count": 203,
   "metadata": {
    "collapsed": false
   },
   "outputs": [
    {
     "name": "stdout",
     "output_type": "stream",
     "text": [
      "Games won with switching strategy: 6713\n",
      "Games won with sticking strategy: 3388\n"
     ]
    }
   ],
   "source": [
    "def simulate_game(switch = True, iteration_count = 1000):\n",
    "  wins = 0\n",
    "  for i in range(iteration_count):\n",
    "    prizes = ['goat','car','goat']\n",
    "    random.shuffle(prizes)\n",
    "    doors = {\n",
    "        1: prizes[0],\n",
    "        2: prizes[1],\n",
    "        3: prizes[2]\n",
    "    }\n",
    "    chosen_door = np.random.choice([1,2,3])\n",
    "    \n",
    "    # Host chooses which door to open\n",
    "    for key, value in doors.iteritems():\n",
    "        if key != chosen_door and doors[key] != 'car':\n",
    "            del doors[key]\n",
    "            break\n",
    "    \n",
    "    # Does the contestant switch or stick??\n",
    "    if switch:\n",
    "        for key, value in doors.iteritems():\n",
    "            if key != chosen_door:\n",
    "                chosen_door = key\n",
    "                break\n",
    "    \n",
    "    if doors[chosen_door] == 'car':\n",
    "        wins += 1\n",
    "  return wins\n",
    "\n",
    "print('Games won with switching strategy: {0}'.format(simulate_game(switch = True, iteration_count=10000)))\n",
    "print('Games won with sticking strategy: {0}'.format(simulate_game(switch = False, iteration_count=10000)))"
   ]
  },
  {
   "cell_type": "markdown",
   "metadata": {},
   "source": [
    "## Continuing our statistical exploration\n",
    "\n",
    "How do we calculate sample size? I bet the answer is math isn't it? Nope. Simulation. Here's how."
   ]
  },
  {
   "cell_type": "code",
   "execution_count": 230,
   "metadata": {
    "collapsed": false
   },
   "outputs": [
    {
     "data": {
      "text/plain": [
       "''"
      ]
     },
     "execution_count": 230,
     "metadata": {},
     "output_type": "execute_result"
    },
    {
     "data": {
      "image/png": "[encoded data removed]",
      "text/plain": [
       "<matplotlib.figure.Figure at 0x117b7ae50>"
      ]
     },
     "metadata": {},
     "output_type": "display_data"
    }
   ],
   "source": [
    "p_values = []\n",
    "\n",
    "for i in range(10000):\n",
    "    control = np.random.normal(1.2,1,80)\n",
    "    variant = np.random.normal(1.0,1,80)\n",
    "    t_stat, p_value, df = statsmodels.stats.weightstats.ttest_ind(control, variant, alternative='two-sided')\n",
    "    p_values.append(p_value)\n",
    "\n",
    "plt.hist(p_values, bins=50)\n",
    "''"
   ]
  },
  {
   "cell_type": "markdown",
   "metadata": {},
   "source": [
    "Let's look at power of our test as a function of sample size again using simulation.\n"
   ]
  },
  {
   "cell_type": "code",
   "execution_count": 249,
   "metadata": {
    "collapsed": false
   },
   "outputs": [
    {
     "data": {
      "text/plain": [
       "[<matplotlib.lines.Line2D at 0x118027490>]"
      ]
     },
     "execution_count": 249,
     "metadata": {},
     "output_type": "execute_result"
    },
    {
     "data": {
      "image/png": "[encoded data removed]",
      "text/plain": [
       "<matplotlib.figure.Figure at 0x117cbc110>"
      ]
     },
     "metadata": {},
     "output_type": "display_data"
    }
   ],
   "source": [
    "percentage_of_runs_correct = []\n",
    "sample_sizes = list(xrange(30, 1500, 20))\n",
    "for sample_size in xrange(30, 1500, 20):\n",
    "    correct_test = 0\n",
    "    runs = 1000\n",
    "    for i in range(runs):\n",
    "        control = np.random.normal(1.15,1,sample_size)\n",
    "        variant = np.random.normal(1.0,1,sample_size)\n",
    "        t_stat, p_value, df = statsmodels.stats.weightstats.ttest_ind(control, variant, alternative='two-sided')\n",
    "        if p_value <= 0.05:\n",
    "            correct_test += 1\n",
    "    percentage_of_runs_correct.append(correct_test/(1.0*runs))\n",
    "    \n",
    "fig = plt.figure()\n",
    "fig.suptitle('Power Analysis by Sample Size')\n",
    "plt.xlabel('sample size')\n",
    "plt.ylabel('test power')\n",
    "plt.plot(sample_sizes, percentage_of_runs_correct)"
   ]
  },
  {
   "cell_type": "markdown",
   "metadata": {},
   "source": [
    "Now you can play with different factors in your experiment and tangibly see how they affect your experiment design."
   ]
  },
  {
   "cell_type": "markdown",
   "metadata": {},
   "source": [
    "How about asking a question like: How does the conversion rate of our population affect our ability to detect improvements?"
   ]
  },
  {
   "cell_type": "code",
   "execution_count": 279,
   "metadata": {
    "collapsed": false
   },
   "outputs": [
    {
     "data": {
      "text/plain": [
       "''"
      ]
     },
     "execution_count": 279,
     "metadata": {},
     "output_type": "execute_result"
    },
    {
     "data": {
      "image/png": "[encoded data removed]",
      "text/plain": [
       "<matplotlib.figure.Figure at 0x119b28e10>"
      ]
     },
     "metadata": {},
     "output_type": "display_data"
    }
   ],
   "source": [
    "p_values = []\n",
    "success_rates = []\n",
    "population_rates = list(xrange(0,100,5))\n",
    "\n",
    "for population_rate in population_rates:\n",
    "    sims_to_run = 500\n",
    "    number_of_trials = 1000\n",
    "    total_success = 0\n",
    "    successes = np.random.binomial(number_of_trials, 1.04 * population_rate/100., sims_to_run)\n",
    "    for success in successes:\n",
    "        p_value = scipy.stats.binom_test(success, number_of_trials, population_rate/100.)\n",
    "        p_values.append(p_value)\n",
    "        if p_value <= 0.05:\n",
    "            total_success += 1\n",
    "    success_rates.append(total_success/(1.0*sims_to_run))\n",
    "plt.plot(population_rates, success_rates)\n",
    "''"
   ]
  },
  {
   "cell_type": "markdown",
   "metadata": {},
   "source": [
    "What if instead of using a percentage lift we used percentage points?"
   ]
  },
  {
   "cell_type": "code",
   "execution_count": 282,
   "metadata": {
    "collapsed": false
   },
   "outputs": [
    {
     "data": {
      "text/plain": [
       "''"
      ]
     },
     "execution_count": 282,
     "metadata": {},
     "output_type": "execute_result"
    },
    {
     "data": {
      "image/png": "[encoded data removed]",
      "text/plain": [
       "<matplotlib.figure.Figure at 0x119b337d0>"
      ]
     },
     "metadata": {},
     "output_type": "display_data"
    }
   ],
   "source": [
    "p_values = []\n",
    "success_rates = []\n",
    "population_rates = list(xrange(0,100,5))\n",
    "\n",
    "for population_rate in population_rates:\n",
    "    sims_to_run = 500\n",
    "    number_of_trials = 1000\n",
    "    total_success = 0\n",
    "    successes = np.random.binomial(number_of_trials, 0.02 + population_rate/100., sims_to_run)\n",
    "    for success in successes:\n",
    "        p_value = scipy.stats.binom_test(success, number_of_trials, population_rate/100.)\n",
    "        p_values.append(p_value)\n",
    "        if p_value <= 0.05:\n",
    "            total_success += 1\n",
    "    success_rates.append(total_success/(1.0*sims_to_run))\n",
    "plt.plot(population_rates, success_rates)\n",
    "''"
   ]
  },
  {
   "cell_type": "markdown",
   "metadata": {},
   "source": [
    "Why? The variance is higher in the middle. The left and right edges are more consistent so a deviation from that consistency is easier to detect."
   ]
  },
  {
   "cell_type": "markdown",
   "metadata": {},
   "source": [
    "## Extra Credit: Touching on Bayesian Statistics"
   ]
  },
  {
   "cell_type": "markdown",
   "metadata": {},
   "source": [
    "We can use some of these ideas along with probability to tackle problems with non-obvious solutions."
   ]
  },
  {
   "cell_type": "markdown",
   "metadata": {},
   "source": [
    "You're given 5 dice (d6, d8, d12, d20, d22). One of these die are rolled (but you don't know which). You're told it rolled a 7, what's the probability the die is 8-sided?"
   ]
  },
  {
   "cell_type": "markdown",
   "metadata": {},
   "source": [
    "First, we call out our hypotheses and make sure they add up to 100%."
   ]
  },
  {
   "cell_type": "code",
   "execution_count": 319,
   "metadata": {
    "collapsed": false
   },
   "outputs": [
    {
     "data": {
      "text/plain": [
       "{6: 0.2, 8: 0.2, 12: 0.2, 20: 0.2, 22: 0.2}"
      ]
     },
     "execution_count": 319,
     "metadata": {},
     "output_type": "execute_result"
    }
   ],
   "source": [
    "hypotheses = {\n",
    "    6: 1,\n",
    "    8: 1,\n",
    "    12:1,\n",
    "    20:1,\n",
    "    22:1\n",
    "}\n",
    "\n",
    "# Normalize\n",
    "total_possibilities = sum(hypotheses.values())\n",
    "for key, value in hypotheses.iteritems():\n",
    "    hypotheses[key] = hypotheses[key]/(1.0*total_possibilities)\n",
    "\n",
    "hypotheses"
   ]
  },
  {
   "cell_type": "markdown",
   "metadata": {},
   "source": [
    "Now we need to be able to come up with our likelihood function and update our hypotheses using Bayes magic."
   ]
  },
  {
   "cell_type": "code",
   "execution_count": 320,
   "metadata": {
    "collapsed": true
   },
   "outputs": [],
   "source": [
    "def die_rolled(rolled_value, hypotheses):\n",
    "    for die_sides, value in hypotheses.iteritems():\n",
    "        if die_sides < rolled_value:\n",
    "            likelihood_of_event_given_die = 0\n",
    "        else:\n",
    "            likelihood_of_event_given_die = 1/(1.0*die_sides)\n",
    "        hypotheses[die_sides] *= likelihood_of_event_given_die\n",
    "        \n",
    "    # normalize\n",
    "    possibility_total = sum(hypotheses.values())\n",
    "    for key, value in hypotheses.iteritems():\n",
    "        hypotheses[key] = value/(1.0*possibility_total)\n",
    "    return hypotheses"
   ]
  },
  {
   "cell_type": "code",
   "execution_count": 321,
   "metadata": {
    "collapsed": false
   },
   "outputs": [
    {
     "data": {
      "text/plain": [
       "{6: 0.35426731078904994,\n",
       " 8: 0.26570048309178745,\n",
       " 12: 0.17713365539452497,\n",
       " 20: 0.106280193236715,\n",
       " 22: 0.096618357487922718}"
      ]
     },
     "execution_count": 321,
     "metadata": {},
     "output_type": "execute_result"
    }
   ],
   "source": [
    "die_rolled(5, hypotheses)"
   ]
  },
  {
   "cell_type": "code",
   "execution_count": 322,
   "metadata": {
    "collapsed": false
   },
   "outputs": [
    {
     "data": {
      "text/plain": [
       "{6: 0.50584755594109587,\n",
       " 8: 0.28453925021686649,\n",
       " 12: 0.12646188898527397,\n",
       " 20: 0.045526280034698649,\n",
       " 22: 0.037625024822064992}"
      ]
     },
     "execution_count": 322,
     "metadata": {},
     "output_type": "execute_result"
    }
   ],
   "source": [
    "die_rolled(6, hypotheses)"
   ]
  },
  {
   "cell_type": "code",
   "execution_count": 323,
   "metadata": {
    "collapsed": false
   },
   "outputs": [
    {
     "data": {
      "text/plain": [
       "{6: 0.0,\n",
       " 8: 0.0,\n",
       " 12: 0.72553987580240009,\n",
       " 20: 0.15671661317331853,\n",
       " 22: 0.11774351102428135}"
      ]
     },
     "execution_count": 323,
     "metadata": {},
     "output_type": "execute_result"
    }
   ],
   "source": [
    "die_rolled(9, hypotheses)"
   ]
  },
  {
   "cell_type": "markdown",
   "metadata": {},
   "source": [
    "## A simple introduction to PyMC"
   ]
  },
  {
   "cell_type": "code",
   "execution_count": 331,
   "metadata": {
    "collapsed": false
   },
   "outputs": [
    {
     "name": "stdout",
     "output_type": "stream",
     "text": [
      " [-----------------100%-----------------] 18000 of 18000 complete in 0.7 sec\n",
      "conversion_rate:\n",
      " \n",
      "\tMean             SD               MC Error        95% HPD interval\n",
      "\t------------------------------------------------------------------\n",
      "\t0.374            0.161            0.003            [ 0.083  0.684]\n",
      "\t\n",
      "\t\n",
      "\tPosterior quantiles:\n",
      "\t\n",
      "\t2.5             25              50              75             97.5\n",
      "\t |---------------|===============|===============|---------------|\n",
      "\t0.101            0.256           0.362          0.485         0.714\n",
      "\t\n"
     ]
    }
   ],
   "source": [
    "import pymc\n",
    "\n",
    "conversion_rate = pymc.Uniform('conversion_rate', lower=0, upper=1.0)\n",
    "observations = pymc.Bernoulli(\"observations\", conversion_rate, value=[0,0,0,1,0,1], observed=True)\n",
    "mcmc = pymc.MCMC([conversion_rate, observations])\n",
    "mcmc.sample(18000, 1000)\n",
    "mcmc.summary()"
   ]
  },
  {
   "cell_type": "markdown",
   "metadata": {},
   "source": [
    "# Extra Extra Credit: Let's Simulate a Product Funnel"
   ]
  },
  {
   "cell_type": "markdown",
   "metadata": {},
   "source": [
    "We want to understand how much our conversion rates can fluctuate day to day and not be a cause for alarm. Said another way, we want to establish control limits of a sort for our conversion metric. Let's set up a simple model for this:"
   ]
  },
  {
   "cell_type": "markdown",
   "metadata": {},
   "source": [
    "Visits\n",
    "\n",
    "* New\n",
    "    * SEO\n",
    "        * Have a conversion rate around 2%\n",
    "        * Receive 1,000,000 visits a day\n",
    "    * SEM\n",
    "        * Have a conversion rate around 7%\n",
    "        * Receive 100,000 visits a day\n",
    "    * Other\n",
    "        * Have a conversion rate around 3%\n",
    "        * Receive 650,000 visits a day\n",
    "* Return\n",
    "    * Have a conversion rate around 20%\n",
    "    * Receive 50,000 visits a day\n",
    "\n",
    "\n"
   ]
  },
  {
   "cell_type": "markdown",
   "metadata": {},
   "source": [
    "## Simple modeling approach"
   ]
  },
  {
   "cell_type": "code",
   "execution_count": 343,
   "metadata": {
    "collapsed": false
   },
   "outputs": [
    {
     "data": {
      "text/plain": [
       "''"
      ]
     },
     "execution_count": 343,
     "metadata": {},
     "output_type": "execute_result"
    },
    {
     "data": {
      "image/png": "[encoded data removed]",
      "text/plain": [
       "<matplotlib.figure.Figure at 0x119b2e3d0>"
      ]
     },
     "metadata": {},
     "output_type": "display_data"
    }
   ],
   "source": [
    "# Our model inputs\n",
    "seo_conversion_rate = 0.02\n",
    "seo_visits_per_day = 1000000\n",
    "\n",
    "sem_conversion_rate = 0.07\n",
    "sem_visits_per_day = 100000\n",
    "\n",
    "other_conversion_rate = 0.03\n",
    "other_visits_per_day = 650000\n",
    "\n",
    "return_conversion_rate = 0.2\n",
    "return_visits_per_day = 50000\n",
    "\n",
    "orders_per_day = []\n",
    "for random_day in range(5000):\n",
    "    days_orders = 0\n",
    "    \n",
    "    sampled_seo_visits_per_day = np.random.normal(seo_visits_per_day, seo_visits_per_day * 0.1)\n",
    "    seo_conversions = np.random.binomial(sampled_seo_visits_per_day, seo_conversion_rate)\n",
    "    \n",
    "    sampled_sem_visits_per_day = np.random.normal(sem_visits_per_day, sem_visits_per_day * 0.1)\n",
    "    sem_conversions = np.random.binomial(sampled_sem_visits_per_day, sem_conversion_rate)\n",
    "    \n",
    "    sampled_other_visits_per_day = np.random.normal(other_visits_per_day, other_visits_per_day * 0.1)\n",
    "    other_conversions = np.random.binomial(sampled_other_visits_per_day, other_conversion_rate)\n",
    "    \n",
    "    sampled_return_visits_per_day = np.random.normal(return_visits_per_day, return_visits_per_day * 0.1)\n",
    "    return_conversions = np.random.binomial(sampled_return_visits_per_day, return_conversion_rate)\n",
    "    \n",
    "    orders_per_day.append(seo_conversions + sem_conversions + other_conversions + return_conversions)\n",
    "    \n",
    "plt.hist(orders_per_day, bins=50)\n",
    "''"
   ]
  },
  {
   "cell_type": "code",
   "execution_count": 342,
   "metadata": {
    "collapsed": false
   },
   "outputs": [
    {
     "data": {
      "text/plain": [
       "56500.0"
      ]
     },
     "execution_count": 342,
     "metadata": {},
     "output_type": "execute_result"
    }
   ],
   "source": [
    "seo_conversion_rate * seo_visits_per_day + \\\n",
    "sem_conversion_rate * sem_visits_per_day + \\\n",
    "other_conversion_rate * other_visits_per_day + \\\n",
    "return_conversion_rate * return_visits_per_day"
   ]
  },
  {
   "cell_type": "code",
   "execution_count": null,
   "metadata": {
    "collapsed": true
   },
   "outputs": [],
   "source": []
  }
 ],
 "metadata": {
  "kernelspec": {
   "display_name": "Python 2",
   "language": "python",
   "name": "python2"
  },
  "language_info": {
   "codemirror_mode": {
    "name": "ipython",
    "version": 2
   },
   "file_extension": ".py",
   "mimetype": "text/x-python",
   "name": "python",
   "nbconvert_exporter": "python",
   "pygments_lexer": "ipython2",
   "version": "2.7.9"
  }
 },
 "nbformat": 4,
 "nbformat_minor": 0
}
